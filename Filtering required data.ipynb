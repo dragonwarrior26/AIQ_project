{
 "cells": [
  {
   "cell_type": "code",
   "execution_count": 38,
   "metadata": {},
   "outputs": [],
   "source": [
    "import pandas as pd\n",
    "\n",
    "df = pd.read_csv('/Users/aayushsharma/Downloads/AIQ_data/city_day.csv') #dataset contaning dependent feature (PM2.5) from year 2015 to current"
   ]
  },
  {
   "cell_type": "code",
   "execution_count": 39,
   "metadata": {},
   "outputs": [
    {
     "data": {
      "text/plain": [
       "{'Ahmedabad',\n",
       " 'Aizawl',\n",
       " 'Amaravati',\n",
       " 'Amritsar',\n",
       " 'Bengaluru',\n",
       " 'Bhopal',\n",
       " 'Brajrajnagar',\n",
       " 'Chandigarh',\n",
       " 'Chennai',\n",
       " 'Coimbatore',\n",
       " 'Delhi',\n",
       " 'Ernakulam',\n",
       " 'Gurugram',\n",
       " 'Guwahati',\n",
       " 'Hyderabad',\n",
       " 'Jaipur',\n",
       " 'Jorapokhar',\n",
       " 'Kochi',\n",
       " 'Kolkata',\n",
       " 'Lucknow',\n",
       " 'Mumbai',\n",
       " 'Patna',\n",
       " 'Shillong',\n",
       " 'Talcher',\n",
       " 'Thiruvananthapuram',\n",
       " 'Visakhapatnam'}"
      ]
     },
     "execution_count": 39,
     "metadata": {},
     "output_type": "execute_result"
    }
   ],
   "source": [
    "set(df.City.values) #can analyse any city as I live in Delhi to taking Delhi into consideration"
   ]
  },
  {
   "cell_type": "code",
   "execution_count": 40,
   "metadata": {},
   "outputs": [
    {
     "data": {
      "text/html": [
       "<div>\n",
       "<style scoped>\n",
       "    .dataframe tbody tr th:only-of-type {\n",
       "        vertical-align: middle;\n",
       "    }\n",
       "\n",
       "    .dataframe tbody tr th {\n",
       "        vertical-align: top;\n",
       "    }\n",
       "\n",
       "    .dataframe thead th {\n",
       "        text-align: right;\n",
       "    }\n",
       "</style>\n",
       "<table border=\"1\" class=\"dataframe\">\n",
       "  <thead>\n",
       "    <tr style=\"text-align: right;\">\n",
       "      <th></th>\n",
       "      <th>City</th>\n",
       "      <th>Date</th>\n",
       "      <th>PM2.5</th>\n",
       "      <th>PM10</th>\n",
       "      <th>NO</th>\n",
       "      <th>NO2</th>\n",
       "      <th>NOx</th>\n",
       "      <th>NH3</th>\n",
       "      <th>CO</th>\n",
       "      <th>SO2</th>\n",
       "      <th>O3</th>\n",
       "      <th>Benzene</th>\n",
       "      <th>Toluene</th>\n",
       "      <th>Xylene</th>\n",
       "      <th>AQI</th>\n",
       "      <th>AQI_Bucket</th>\n",
       "    </tr>\n",
       "  </thead>\n",
       "  <tbody>\n",
       "    <tr>\n",
       "      <td>10229</td>\n",
       "      <td>Delhi</td>\n",
       "      <td>2015-01-01</td>\n",
       "      <td>313.22</td>\n",
       "      <td>607.98</td>\n",
       "      <td>69.16</td>\n",
       "      <td>36.39</td>\n",
       "      <td>110.59</td>\n",
       "      <td>33.85</td>\n",
       "      <td>15.20</td>\n",
       "      <td>9.25</td>\n",
       "      <td>41.68</td>\n",
       "      <td>14.36</td>\n",
       "      <td>24.86</td>\n",
       "      <td>9.84</td>\n",
       "      <td>472.0</td>\n",
       "      <td>Severe</td>\n",
       "    </tr>\n",
       "    <tr>\n",
       "      <td>10230</td>\n",
       "      <td>Delhi</td>\n",
       "      <td>2015-01-02</td>\n",
       "      <td>186.18</td>\n",
       "      <td>269.55</td>\n",
       "      <td>62.09</td>\n",
       "      <td>32.87</td>\n",
       "      <td>88.14</td>\n",
       "      <td>31.83</td>\n",
       "      <td>9.54</td>\n",
       "      <td>6.65</td>\n",
       "      <td>29.97</td>\n",
       "      <td>10.55</td>\n",
       "      <td>20.09</td>\n",
       "      <td>4.29</td>\n",
       "      <td>454.0</td>\n",
       "      <td>Severe</td>\n",
       "    </tr>\n",
       "    <tr>\n",
       "      <td>10231</td>\n",
       "      <td>Delhi</td>\n",
       "      <td>2015-01-03</td>\n",
       "      <td>87.18</td>\n",
       "      <td>131.90</td>\n",
       "      <td>25.73</td>\n",
       "      <td>30.31</td>\n",
       "      <td>47.95</td>\n",
       "      <td>69.55</td>\n",
       "      <td>10.61</td>\n",
       "      <td>2.65</td>\n",
       "      <td>19.71</td>\n",
       "      <td>3.91</td>\n",
       "      <td>10.23</td>\n",
       "      <td>1.99</td>\n",
       "      <td>143.0</td>\n",
       "      <td>Moderate</td>\n",
       "    </tr>\n",
       "    <tr>\n",
       "      <td>10232</td>\n",
       "      <td>Delhi</td>\n",
       "      <td>2015-01-04</td>\n",
       "      <td>151.84</td>\n",
       "      <td>241.84</td>\n",
       "      <td>25.01</td>\n",
       "      <td>36.91</td>\n",
       "      <td>48.62</td>\n",
       "      <td>130.36</td>\n",
       "      <td>11.54</td>\n",
       "      <td>4.63</td>\n",
       "      <td>25.36</td>\n",
       "      <td>4.26</td>\n",
       "      <td>9.71</td>\n",
       "      <td>3.34</td>\n",
       "      <td>319.0</td>\n",
       "      <td>Very Poor</td>\n",
       "    </tr>\n",
       "    <tr>\n",
       "      <td>10233</td>\n",
       "      <td>Delhi</td>\n",
       "      <td>2015-01-05</td>\n",
       "      <td>146.60</td>\n",
       "      <td>219.13</td>\n",
       "      <td>14.01</td>\n",
       "      <td>34.92</td>\n",
       "      <td>38.25</td>\n",
       "      <td>122.88</td>\n",
       "      <td>9.20</td>\n",
       "      <td>3.33</td>\n",
       "      <td>23.20</td>\n",
       "      <td>2.80</td>\n",
       "      <td>6.21</td>\n",
       "      <td>2.96</td>\n",
       "      <td>325.0</td>\n",
       "      <td>Very Poor</td>\n",
       "    </tr>\n",
       "  </tbody>\n",
       "</table>\n",
       "</div>"
      ],
      "text/plain": [
       "        City        Date   PM2.5    PM10     NO    NO2     NOx     NH3     CO  \\\n",
       "10229  Delhi  2015-01-01  313.22  607.98  69.16  36.39  110.59   33.85  15.20   \n",
       "10230  Delhi  2015-01-02  186.18  269.55  62.09  32.87   88.14   31.83   9.54   \n",
       "10231  Delhi  2015-01-03   87.18  131.90  25.73  30.31   47.95   69.55  10.61   \n",
       "10232  Delhi  2015-01-04  151.84  241.84  25.01  36.91   48.62  130.36  11.54   \n",
       "10233  Delhi  2015-01-05  146.60  219.13  14.01  34.92   38.25  122.88   9.20   \n",
       "\n",
       "        SO2     O3  Benzene  Toluene  Xylene    AQI AQI_Bucket  \n",
       "10229  9.25  41.68    14.36    24.86    9.84  472.0     Severe  \n",
       "10230  6.65  29.97    10.55    20.09    4.29  454.0     Severe  \n",
       "10231  2.65  19.71     3.91    10.23    1.99  143.0   Moderate  \n",
       "10232  4.63  25.36     4.26     9.71    3.34  319.0  Very Poor  \n",
       "10233  3.33  23.20     2.80     6.21    2.96  325.0  Very Poor  "
      ]
     },
     "execution_count": 40,
     "metadata": {},
     "output_type": "execute_result"
    }
   ],
   "source": [
    "df_delhi = df[df.City == 'Delhi'] #filtering\n",
    "df_delhi.head()"
   ]
  },
  {
   "cell_type": "code",
   "execution_count": 41,
   "metadata": {},
   "outputs": [
    {
     "name": "stderr",
     "output_type": "stream",
     "text": [
      "/Users/aayushsharma/opt/anaconda3/lib/python3.7/site-packages/ipykernel_launcher.py:1: SettingWithCopyWarning: \n",
      "A value is trying to be set on a copy of a slice from a DataFrame.\n",
      "Try using .loc[row_indexer,col_indexer] = value instead\n",
      "\n",
      "See the caveats in the documentation: http://pandas.pydata.org/pandas-docs/stable/user_guide/indexing.html#returning-a-view-versus-a-copy\n",
      "  \"\"\"Entry point for launching an IPython kernel.\n"
     ]
    },
    {
     "data": {
      "text/html": [
       "<div>\n",
       "<style scoped>\n",
       "    .dataframe tbody tr th:only-of-type {\n",
       "        vertical-align: middle;\n",
       "    }\n",
       "\n",
       "    .dataframe tbody tr th {\n",
       "        vertical-align: top;\n",
       "    }\n",
       "\n",
       "    .dataframe thead th {\n",
       "        text-align: right;\n",
       "    }\n",
       "</style>\n",
       "<table border=\"1\" class=\"dataframe\">\n",
       "  <thead>\n",
       "    <tr style=\"text-align: right;\">\n",
       "      <th></th>\n",
       "      <th>City</th>\n",
       "      <th>Date</th>\n",
       "      <th>PM2.5</th>\n",
       "      <th>PM10</th>\n",
       "      <th>NO</th>\n",
       "      <th>NO2</th>\n",
       "      <th>NOx</th>\n",
       "      <th>NH3</th>\n",
       "      <th>CO</th>\n",
       "      <th>SO2</th>\n",
       "      <th>O3</th>\n",
       "      <th>Benzene</th>\n",
       "      <th>Toluene</th>\n",
       "      <th>Xylene</th>\n",
       "      <th>AQI</th>\n",
       "      <th>AQI_Bucket</th>\n",
       "      <th>Year</th>\n",
       "    </tr>\n",
       "  </thead>\n",
       "  <tbody>\n",
       "    <tr>\n",
       "      <td>10229</td>\n",
       "      <td>Delhi</td>\n",
       "      <td>2015-01-01</td>\n",
       "      <td>313.22</td>\n",
       "      <td>607.98</td>\n",
       "      <td>69.16</td>\n",
       "      <td>36.39</td>\n",
       "      <td>110.59</td>\n",
       "      <td>33.85</td>\n",
       "      <td>15.20</td>\n",
       "      <td>9.25</td>\n",
       "      <td>41.68</td>\n",
       "      <td>14.36</td>\n",
       "      <td>24.86</td>\n",
       "      <td>9.84</td>\n",
       "      <td>472.0</td>\n",
       "      <td>Severe</td>\n",
       "      <td>2015</td>\n",
       "    </tr>\n",
       "    <tr>\n",
       "      <td>10230</td>\n",
       "      <td>Delhi</td>\n",
       "      <td>2015-01-02</td>\n",
       "      <td>186.18</td>\n",
       "      <td>269.55</td>\n",
       "      <td>62.09</td>\n",
       "      <td>32.87</td>\n",
       "      <td>88.14</td>\n",
       "      <td>31.83</td>\n",
       "      <td>9.54</td>\n",
       "      <td>6.65</td>\n",
       "      <td>29.97</td>\n",
       "      <td>10.55</td>\n",
       "      <td>20.09</td>\n",
       "      <td>4.29</td>\n",
       "      <td>454.0</td>\n",
       "      <td>Severe</td>\n",
       "      <td>2015</td>\n",
       "    </tr>\n",
       "    <tr>\n",
       "      <td>10231</td>\n",
       "      <td>Delhi</td>\n",
       "      <td>2015-01-03</td>\n",
       "      <td>87.18</td>\n",
       "      <td>131.90</td>\n",
       "      <td>25.73</td>\n",
       "      <td>30.31</td>\n",
       "      <td>47.95</td>\n",
       "      <td>69.55</td>\n",
       "      <td>10.61</td>\n",
       "      <td>2.65</td>\n",
       "      <td>19.71</td>\n",
       "      <td>3.91</td>\n",
       "      <td>10.23</td>\n",
       "      <td>1.99</td>\n",
       "      <td>143.0</td>\n",
       "      <td>Moderate</td>\n",
       "      <td>2015</td>\n",
       "    </tr>\n",
       "    <tr>\n",
       "      <td>10232</td>\n",
       "      <td>Delhi</td>\n",
       "      <td>2015-01-04</td>\n",
       "      <td>151.84</td>\n",
       "      <td>241.84</td>\n",
       "      <td>25.01</td>\n",
       "      <td>36.91</td>\n",
       "      <td>48.62</td>\n",
       "      <td>130.36</td>\n",
       "      <td>11.54</td>\n",
       "      <td>4.63</td>\n",
       "      <td>25.36</td>\n",
       "      <td>4.26</td>\n",
       "      <td>9.71</td>\n",
       "      <td>3.34</td>\n",
       "      <td>319.0</td>\n",
       "      <td>Very Poor</td>\n",
       "      <td>2015</td>\n",
       "    </tr>\n",
       "    <tr>\n",
       "      <td>10233</td>\n",
       "      <td>Delhi</td>\n",
       "      <td>2015-01-05</td>\n",
       "      <td>146.60</td>\n",
       "      <td>219.13</td>\n",
       "      <td>14.01</td>\n",
       "      <td>34.92</td>\n",
       "      <td>38.25</td>\n",
       "      <td>122.88</td>\n",
       "      <td>9.20</td>\n",
       "      <td>3.33</td>\n",
       "      <td>23.20</td>\n",
       "      <td>2.80</td>\n",
       "      <td>6.21</td>\n",
       "      <td>2.96</td>\n",
       "      <td>325.0</td>\n",
       "      <td>Very Poor</td>\n",
       "      <td>2015</td>\n",
       "    </tr>\n",
       "  </tbody>\n",
       "</table>\n",
       "</div>"
      ],
      "text/plain": [
       "        City        Date   PM2.5    PM10     NO    NO2     NOx     NH3     CO  \\\n",
       "10229  Delhi  2015-01-01  313.22  607.98  69.16  36.39  110.59   33.85  15.20   \n",
       "10230  Delhi  2015-01-02  186.18  269.55  62.09  32.87   88.14   31.83   9.54   \n",
       "10231  Delhi  2015-01-03   87.18  131.90  25.73  30.31   47.95   69.55  10.61   \n",
       "10232  Delhi  2015-01-04  151.84  241.84  25.01  36.91   48.62  130.36  11.54   \n",
       "10233  Delhi  2015-01-05  146.60  219.13  14.01  34.92   38.25  122.88   9.20   \n",
       "\n",
       "        SO2     O3  Benzene  Toluene  Xylene    AQI AQI_Bucket  Year  \n",
       "10229  9.25  41.68    14.36    24.86    9.84  472.0     Severe  2015  \n",
       "10230  6.65  29.97    10.55    20.09    4.29  454.0     Severe  2015  \n",
       "10231  2.65  19.71     3.91    10.23    1.99  143.0   Moderate  2015  \n",
       "10232  4.63  25.36     4.26     9.71    3.34  319.0  Very Poor  2015  \n",
       "10233  3.33  23.20     2.80     6.21    2.96  325.0  Very Poor  2015  "
      ]
     },
     "execution_count": 41,
     "metadata": {},
     "output_type": "execute_result"
    }
   ],
   "source": [
    "df_delhi['Year'] = pd.DatetimeIndex(df_delhi['Date']).year #creating year column\n",
    "df_delhi.head()"
   ]
  },
  {
   "cell_type": "code",
   "execution_count": 46,
   "metadata": {},
   "outputs": [
    {
     "name": "stdout",
     "output_type": "stream",
     "text": [
      "<class 'pandas.core.frame.DataFrame'>\n",
      "Int64Index: 2009 entries, 10229 to 12237\n",
      "Data columns (total 17 columns):\n",
      "City          2009 non-null object\n",
      "Date          2009 non-null object\n",
      "PM2.5         2007 non-null float64\n",
      "PM10          1932 non-null float64\n",
      "NO            2007 non-null float64\n",
      "NO2           2007 non-null float64\n",
      "NOx           2009 non-null float64\n",
      "NH3           2000 non-null float64\n",
      "CO            2009 non-null float64\n",
      "SO2           1899 non-null float64\n",
      "O3            1925 non-null float64\n",
      "Benzene       2009 non-null float64\n",
      "Toluene       2009 non-null float64\n",
      "Xylene        1228 non-null float64\n",
      "AQI           1999 non-null float64\n",
      "AQI_Bucket    1999 non-null object\n",
      "Year          2009 non-null int64\n",
      "dtypes: float64(13), int64(1), object(3)\n",
      "memory usage: 282.5+ KB\n"
     ]
    }
   ],
   "source": [
    "df_delhi.info() #checking null enteries"
   ]
  },
  {
   "cell_type": "code",
   "execution_count": 79,
   "metadata": {},
   "outputs": [
    {
     "data": {
      "text/plain": [
       "10229    313.22\n",
       "10230    186.18\n",
       "10231     87.18\n",
       "10232    151.84\n",
       "10233    146.60\n",
       "          ...  \n",
       "10589    187.01\n",
       "10590    148.77\n",
       "10591    159.67\n",
       "10592    233.97\n",
       "10593    240.97\n",
       "Name: PM2.5, Length: 365, dtype: float64"
      ]
     },
     "execution_count": 79,
     "metadata": {},
     "output_type": "execute_result"
    }
   ],
   "source": [
    "df_2015 = df_delhi[df_delhi.Year == 2015]['PM2.5'] #Extracting the independent feature for every year\n",
    "df_2015"
   ]
  },
  {
   "cell_type": "code",
   "execution_count": 67,
   "metadata": {},
   "outputs": [],
   "source": [
    "df_2016 = df_delhi[df_delhi.Year == 2016]['PM2.5']"
   ]
  },
  {
   "cell_type": "code",
   "execution_count": 68,
   "metadata": {},
   "outputs": [],
   "source": [
    "df_2017 = df_delhi[df_delhi.Year == 2017]['PM2.5']"
   ]
  },
  {
   "cell_type": "code",
   "execution_count": 69,
   "metadata": {},
   "outputs": [],
   "source": [
    "df_2018 = df_delhi[df_delhi.Year == 2018]['PM2.5']"
   ]
  },
  {
   "cell_type": "code",
   "execution_count": 70,
   "metadata": {},
   "outputs": [],
   "source": [
    "df_2019 = df_delhi[df_delhi.Year == 2019]['PM2.5']"
   ]
  },
  {
   "cell_type": "code",
   "execution_count": 81,
   "metadata": {},
   "outputs": [],
   "source": [
    "df_2015.to_csv('2015.csv', index = False, header = False) # Creating csv files for every year, loop won't work as df object can not be a string so no concatenation can be done hence looping is failed"
   ]
  },
  {
   "cell_type": "code",
   "execution_count": 82,
   "metadata": {},
   "outputs": [],
   "source": [
    "df_2016.to_csv('2016.csv', index = False, header = False)"
   ]
  },
  {
   "cell_type": "code",
   "execution_count": 83,
   "metadata": {},
   "outputs": [],
   "source": [
    "df_2017.to_csv('2017.csv', index = False, header = False)"
   ]
  },
  {
   "cell_type": "code",
   "execution_count": 84,
   "metadata": {},
   "outputs": [],
   "source": [
    "df_2018.to_csv('2018.csv', index = False, header = False)"
   ]
  },
  {
   "cell_type": "code",
   "execution_count": 85,
   "metadata": {},
   "outputs": [],
   "source": [
    "df_2019.to_csv('2019.csv', index = False, header = False)"
   ]
  },
  {
   "cell_type": "code",
   "execution_count": null,
   "metadata": {},
   "outputs": [],
   "source": []
  }
 ],
 "metadata": {
  "kernelspec": {
   "display_name": "Python 3",
   "language": "python",
   "name": "python3"
  },
  "language_info": {
   "codemirror_mode": {
    "name": "ipython",
    "version": 3
   },
   "file_extension": ".py",
   "mimetype": "text/x-python",
   "name": "python",
   "nbconvert_exporter": "python",
   "pygments_lexer": "ipython3",
   "version": "3.7.4"
  }
 },
 "nbformat": 4,
 "nbformat_minor": 2
}
